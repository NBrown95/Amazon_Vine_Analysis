{
  "nbformat": 4,
  "nbformat_minor": 0,
  "metadata": {
    "colab": {
      "name": "Vine_Review_Analysis.ipynb",
      "provenance": [],
      "authorship_tag": "ABX9TyMu7Qg0KhtCD9gYyfw3VTwt",
      "include_colab_link": true
    },
    "kernelspec": {
      "name": "python3",
      "display_name": "Python 3"
    },
    "language_info": {
      "name": "python"
    }
  },
  "cells": [
    {
      "cell_type": "markdown",
      "metadata": {
        "id": "view-in-github",
        "colab_type": "text"
      },
      "source": [
        "<a href=\"https://colab.research.google.com/github/NBrown95/Amazon_Vine_Analysis/blob/main/Vine_Review_Analysis.ipynb\" target=\"_parent\"><img src=\"https://colab.research.google.com/assets/colab-badge.svg\" alt=\"Open In Colab\"/></a>"
      ]
    },
    {
      "cell_type": "code",
      "metadata": {
        "colab": {
          "base_uri": "https://localhost:8080/"
        },
        "id": "Vx8_1ItCm4DL",
        "outputId": "b500b7c1-5da4-46ea-8b8c-018f9e830ef0"
      },
      "source": [
        "import os\n",
        "# Find the latest version of spark 3.0  from http://www.apache.org/dist/spark/ and enter as the spark version\n",
        "# For example:\n",
        "# spark_version = 'spark-3.0.3'\n",
        "spark_version = 'spark-3.0.3'\n",
        "os.environ['SPARK_VERSION']=spark_version\n",
        "\n",
        "# Install Spark and Java\n",
        "!apt-get update\n",
        "!apt-get install openjdk-11-jdk-headless -qq > /dev/null\n",
        "!wget -q http://www.apache.org/dist/spark/$SPARK_VERSION/$SPARK_VERSION-bin-hadoop2.7.tgz\n",
        "!tar xf $SPARK_VERSION-bin-hadoop2.7.tgz\n",
        "!pip install -q findspark\n",
        "\n",
        "# Set Environment Variables\n",
        "import os\n",
        "os.environ[\"JAVA_HOME\"] = \"/usr/lib/jvm/java-11-openjdk-amd64\"\n",
        "os.environ[\"SPARK_HOME\"] = f\"/content/{spark_version}-bin-hadoop2.7\"\n",
        "\n",
        "# Start a SparkSession\n",
        "import findspark\n",
        "findspark.init()"
      ],
      "execution_count": null,
      "outputs": [
        {
          "output_type": "stream",
          "text": [
            "\r0% [Working]\r            \rHit:1 http://security.ubuntu.com/ubuntu bionic-security InRelease\n",
            "Ign:2 https://developer.download.nvidia.com/compute/cuda/repos/ubuntu1804/x86_64  InRelease\n",
            "Hit:3 http://ppa.launchpad.net/c2d4u.team/c2d4u4.0+/ubuntu bionic InRelease\n",
            "Hit:4 https://cloud.r-project.org/bin/linux/ubuntu bionic-cran40/ InRelease\n",
            "Hit:5 http://archive.ubuntu.com/ubuntu bionic InRelease\n",
            "Hit:6 http://archive.ubuntu.com/ubuntu bionic-updates InRelease\n",
            "Ign:7 https://developer.download.nvidia.com/compute/machine-learning/repos/ubuntu1804/x86_64  InRelease\n",
            "Hit:8 https://developer.download.nvidia.com/compute/cuda/repos/ubuntu1804/x86_64  Release\n",
            "Hit:9 https://developer.download.nvidia.com/compute/machine-learning/repos/ubuntu1804/x86_64  Release\n",
            "Hit:10 http://ppa.launchpad.net/cran/libgit2/ubuntu bionic InRelease\n",
            "Hit:11 http://archive.ubuntu.com/ubuntu bionic-backports InRelease\n",
            "Hit:12 http://ppa.launchpad.net/deadsnakes/ppa/ubuntu bionic InRelease\n",
            "Hit:13 http://ppa.launchpad.net/graphics-drivers/ppa/ubuntu bionic InRelease\n",
            "Reading package lists... Done\n"
          ],
          "name": "stdout"
        }
      ]
    },
    {
      "cell_type": "code",
      "metadata": {
        "id": "Q9mxif34nH4n"
      },
      "source": [
        "# Start Spark session\n",
        "from pyspark.sql import SparkSession\n",
        "spark = SparkSession.builder.appName(\"vineReview\").getOrCreate()"
      ],
      "execution_count": null,
      "outputs": []
    },
    {
      "cell_type": "code",
      "metadata": {
        "colab": {
          "base_uri": "https://localhost:8080/"
        },
        "id": "X40ysCtznQs2",
        "outputId": "ca95da17-c6e9-4073-f283-35eaa27e3dd0"
      },
      "source": [
        "from pyspark import SparkFiles\n",
        "url = \"https://s3.amazonaws.com/amazon-reviews-pds/tsv/amazon_reviews_us_Watches_v1_00.tsv.gz\"\n",
        "spark.sparkContext.addFile(url)\n",
        "df = spark.read.option(\"encoding\", \"UTF-8\").csv(SparkFiles.get(\"amazon_reviews_us_Watches_v1_00.tsv.gz\"), sep=\"\\t\", header=True, inferSchema=True)\n",
        "df.show()"
      ],
      "execution_count": 5,
      "outputs": [
        {
          "output_type": "stream",
          "text": [
            "+-----------+-----------+--------------+----------+--------------+--------------------+----------------+-----------+-------------+-----------+----+-----------------+--------------------+--------------------+-----------+\n",
            "|marketplace|customer_id|     review_id|product_id|product_parent|       product_title|product_category|star_rating|helpful_votes|total_votes|vine|verified_purchase|     review_headline|         review_body|review_date|\n",
            "+-----------+-----------+--------------+----------+--------------+--------------------+----------------+-----------+-------------+-----------+----+-----------------+--------------------+--------------------+-----------+\n",
            "|         US|    3653882|R3O9SGZBVQBV76|B00FALQ1ZC|     937001370|Invicta Women's 1...|         Watches|          5|            0|          0|   N|                Y|          Five Stars|Absolutely love t...| 2015-08-31|\n",
            "|         US|   14661224| RKH8BNC3L5DLF|B00D3RGO20|     484010722|Kenneth Cole New ...|         Watches|          5|            0|          0|   N|                Y|I love thiswatch ...|I love this watch...| 2015-08-31|\n",
            "|         US|   27324930|R2HLE8WKZSU3NL|B00DKYC7TK|     361166390|Ritche 22mm Black...|         Watches|          2|            1|          1|   N|                Y|           Two Stars|           Scratches| 2015-08-31|\n",
            "|         US|    7211452|R31U3UH5AZ42LL|B000EQS1JW|     958035625|Citizen Men's BM8...|         Watches|          5|            0|          0|   N|                Y|          Five Stars|It works well on ...| 2015-08-31|\n",
            "|         US|   12733322|R2SV659OUJ945Y|B00A6GFD7S|     765328221|Orient ER27009B M...|         Watches|          4|            0|          0|   N|                Y|Beautiful face, b...|Beautiful watch f...| 2015-08-31|\n",
            "|         US|    6576411| RA51CP8TR5A2L|B00EYSOSE8|     230493695|Casio Men's GW-94...|         Watches|          5|            0|          0|   N|                Y|       No complaints|i love this watch...| 2015-08-31|\n",
            "|         US|   11811565| RB2Q7DLDN6TH6|B00WM0QA3M|     549298279|Fossil Women's ES...|         Watches|          5|            1|          1|   N|                Y|          Five Stars|for my wife and s...| 2015-08-31|\n",
            "|         US|   49401598|R2RHFJV0UYBK3Y|B00A4EYBR0|     844009113|INFANTRY Mens Nig...|         Watches|          1|            1|          5|   N|                N|I was about to bu...|I was about to bu...| 2015-08-31|\n",
            "|         US|   45925069|R2Z6JOQ94LFHEP|B00MAMPGGE|     263720892|G-Shock Men's Gre...|         Watches|          5|            1|          2|   N|                Y|      Perfect watch!|Watch is perfect....| 2015-08-31|\n",
            "|         US|   44751341| RX27XIIWY5JPB|B004LBPB7Q|     124278407|Heiden Quad Watch...|         Watches|          4|            0|          0|   N|                Y|Great quality and...|Great quality and...| 2015-08-31|\n",
            "|         US|    9962330|R15C7QEZT0LGZN|B00KGTVGKS|      28017857|Fossil Women's ES...|         Watches|          4|            2|          2|   N|                Y|           Satisfied|The watch was pre...| 2015-08-31|\n",
            "|         US|   16097204|R361XSS37V0NCZ|B0039UT5OU|     685450910|Casio General Men...|         Watches|          1|            0|          0|   N|                N|I do not think th...|I bought this wat...| 2015-08-31|\n",
            "|         US|   51330346| ROTNLALUAJAUB|B00MPF0XJQ|     767769082|2Tone Gold Silver...|         Watches|          3|            0|          0|   N|                Y|         Three Stars|It is a cheap wat...| 2015-08-31|\n",
            "|         US|    4201739|R2DYX7QU6BGOHR|B003P1OHHS|     648595227|Bulova Men's 98B1...|         Watches|          5|            0|          0|   N|                Y|          Five Stars|Heavier than i th...| 2015-08-31|\n",
            "|         US|   26339765| RWASY7FKI7QOT|B00R70YEOE|     457338020|Casio - G-Shock -...|         Watches|          5|            2|          3|   N|                Y|  Worth it - love it|Had it for severa...| 2015-08-31|\n",
            "|         US|    2692576|R2KKYZIN3CCL21|B000FVE3BG|     824370661|Invicta Men's 332...|         Watches|          5|            0|          0|   N|                Y|This is when diff...|This one is diffe...| 2015-08-31|\n",
            "|         US|   44713366|R22H4FGVD5O52O|B008X6JB12|     814431355|Seiko Women's SUT...|         Watches|          4|            1|          1|   N|                Y|Thewatch is attra...|The watch is attr...| 2015-08-31|\n",
            "|         US|   32778769|R11UACZERCM4ZY|B0040UOFPW|     187700878|Anne Klein Women'...|         Watches|          5|            0|          0|   N|                Y|          Five Stars|      said my wife..| 2015-08-31|\n",
            "|         US|   27258523|R1AT8NQ38UQOL6|B00UR2R5UY|     594315262|Guess U13630G1 Me...|         Watches|          5|            0|          0|   N|                Y|          Five Stars|Nice watch, on ti...| 2015-08-31|\n",
            "|         US|   42646538|R2NCZRQGIF1Q75|B00HFF57L0|     520810507|Nixon Men's Geo V...|         Watches|          4|            0|          0|   N|                Y|        Very stylish|Looks great and l...| 2015-08-31|\n",
            "+-----------+-----------+--------------+----------+--------------+--------------------+----------------+-----------+-------------+-----------+----+-----------------+--------------------+--------------------+-----------+\n",
            "only showing top 20 rows\n",
            "\n"
          ],
          "name": "stdout"
        }
      ]
    },
    {
      "cell_type": "code",
      "metadata": {
        "colab": {
          "base_uri": "https://localhost:8080/"
        },
        "id": "xc3Aogdjtnae",
        "outputId": "86cdedfe-908d-4c44-b3ab-28069ca20ce1"
      },
      "source": [
        "# Create the vine_table. DataFrame\n",
        "vine_df = df.select([\"review_id\", \"star_rating\", \"helpful_votes\", \"total_votes\", \"vine\", \"verified_purchase\"])\n",
        "vine_df.show()"
      ],
      "execution_count": 7,
      "outputs": [
        {
          "output_type": "stream",
          "text": [
            "+--------------+-----------+-------------+-----------+----+-----------------+\n",
            "|     review_id|star_rating|helpful_votes|total_votes|vine|verified_purchase|\n",
            "+--------------+-----------+-------------+-----------+----+-----------------+\n",
            "|R3O9SGZBVQBV76|          5|            0|          0|   N|                Y|\n",
            "| RKH8BNC3L5DLF|          5|            0|          0|   N|                Y|\n",
            "|R2HLE8WKZSU3NL|          2|            1|          1|   N|                Y|\n",
            "|R31U3UH5AZ42LL|          5|            0|          0|   N|                Y|\n",
            "|R2SV659OUJ945Y|          4|            0|          0|   N|                Y|\n",
            "| RA51CP8TR5A2L|          5|            0|          0|   N|                Y|\n",
            "| RB2Q7DLDN6TH6|          5|            1|          1|   N|                Y|\n",
            "|R2RHFJV0UYBK3Y|          1|            1|          5|   N|                N|\n",
            "|R2Z6JOQ94LFHEP|          5|            1|          2|   N|                Y|\n",
            "| RX27XIIWY5JPB|          4|            0|          0|   N|                Y|\n",
            "|R15C7QEZT0LGZN|          4|            2|          2|   N|                Y|\n",
            "|R361XSS37V0NCZ|          1|            0|          0|   N|                N|\n",
            "| ROTNLALUAJAUB|          3|            0|          0|   N|                Y|\n",
            "|R2DYX7QU6BGOHR|          5|            0|          0|   N|                Y|\n",
            "| RWASY7FKI7QOT|          5|            2|          3|   N|                Y|\n",
            "|R2KKYZIN3CCL21|          5|            0|          0|   N|                Y|\n",
            "|R22H4FGVD5O52O|          4|            1|          1|   N|                Y|\n",
            "|R11UACZERCM4ZY|          5|            0|          0|   N|                Y|\n",
            "|R1AT8NQ38UQOL6|          5|            0|          0|   N|                Y|\n",
            "|R2NCZRQGIF1Q75|          4|            0|          0|   N|                Y|\n",
            "+--------------+-----------+-------------+-----------+----+-----------------+\n",
            "only showing top 20 rows\n",
            "\n"
          ],
          "name": "stdout"
        }
      ]
    },
    {
      "cell_type": "code",
      "metadata": {
        "colab": {
          "base_uri": "https://localhost:8080/"
        },
        "id": "AGpBq5f6tyC5",
        "outputId": "6dbdfb8c-424f-4d64-fc4a-b5a275a29e8f"
      },
      "source": [
        "# Filter dataframe for more than 20 total votes\n",
        "df = df.filter(\"total_votes>=20\")\n",
        "df.show()"
      ],
      "execution_count": 9,
      "outputs": [
        {
          "output_type": "stream",
          "text": [
            "+-----------+-----------+--------------+----------+--------------+--------------------+----------------+-----------+-------------+-----------+----+-----------------+--------------------+--------------------+-----------+\n",
            "|marketplace|customer_id|     review_id|product_id|product_parent|       product_title|product_category|star_rating|helpful_votes|total_votes|vine|verified_purchase|     review_headline|         review_body|review_date|\n",
            "+-----------+-----------+--------------+----------+--------------+--------------------+----------------+-----------+-------------+-----------+----+-----------------+--------------------+--------------------+-----------+\n",
            "|         US|   17728960|R14W2VCHHK5V7W|B00ZI3R5VG|     213303319|Stuhrling Origina...|         Watches|          5|           19|         20|   N|                Y|this is a good al...|As a former Rolex...| 2015-08-31|\n",
            "|         US|   20240757|R1S3T57O3OYT5S|B003DZ7VOW|     336197576|G-Shock GA100A-7A...|         Watches|          5|           19|         20|   N|                Y|          Five Stars|         Great watch| 2015-08-31|\n",
            "|         US|   15806601|R1BTWIBLYYVOV7|B00I1LM5SK|     878438426|Seiko Men's SSC22...|         Watches|          5|           30|         30|   N|                Y|Extremely Satisfied!|A beautiful timep...| 2015-08-31|\n",
            "|         US|   14870011| R6F9VY91ADPLA|B002ZLE41I|     118278818|Grand Seiko Wrist...|         Watches|          1|            8|         30|   N|                N|            NOT a GS|NOT a Grand Seiko...| 2015-08-31|\n",
            "|         US|   32751852|R3PXNV89DFIXKV|B00OAY5ZPC|     814269665|G-Shock Men's Mil...|         Watches|          5|           35|         37|   N|                Y|Sweet watch perfe...|Sweet watch perfe...| 2015-08-30|\n",
            "|         US|   36877359|R2ZF9NYVT3J7D6|B000JQJS6M|     926299553|Invicta Men's 892...|         Watches|          5|           19|         22|   N|                Y|Wow what a great ...|I bought this wat...| 2015-08-30|\n",
            "|         US|   52450678|R20NYA5V0UF9NE|B00EX1GLXM|     186312431|Daniel Wellington...|         Watches|          5|           27|         28|   N|                Y|  Best Women's Watch|I love this watch...| 2015-08-30|\n",
            "|         US|   20624774|R2X8FZRUOS8R8C|B00WUY9RGM|     609917507|Bulova Accutron I...|         Watches|          4|           25|         26|   N|                Y|A very nice reiss...|A very nice reiss...| 2015-08-29|\n",
            "|         US|     225889|R2D8IMBVX3XCLF|B00U0XC1T0|      31905742|Akribos XXIV Men'...|         Watches|          1|           14|         20|   N|                Y|I bought in 30 ju...|I bought in 30 ju...| 2015-08-29|\n",
            "|         US|   36602051|R25UD9TA63L3Q8|B00YTYH16Y|     251372732|Timex Expedition ...|         Watches|          5|           25|         27|   N|                Y|Great watch for s...|I work in an a me...| 2015-08-28|\n",
            "|         US|   47047549|R2RB1HML8N712P|B00J5QR062|     220979928|Casio Men's GA-11...|         Watches|          5|           26|         28|   N|                Y| My First G-SHOCK...|I'll be honest I ...| 2015-08-28|\n",
            "|         US|    2546433| ROXA8XP5EI2KK|B009XGOP8A|     973820677|Michael Kors Wome...|         Watches|          5|           48|         49|   N|                N|I love it. I woul...|This thing is gor...| 2015-08-28|\n",
            "|         US|   24173990|R149IHTGGSRGX9|B00BKQTA4A|     128852263|Daniel Wellington...|         Watches|          5|           19|         20|   N|                Y|          Five Stars|Great watch! My n...| 2015-08-28|\n",
            "|         US|   53096363|R1B7M0OP3UNP6O|B00V0G9OGE|     297682929|Armitron Sport Wo...|         Watches|          5|           49|         52|   Y|                N|Lots of features ...|My wife has been ...| 2015-08-27|\n",
            "|         US|   27863178|R2N92CUM7WBA1A|B013XHV4GU|     119578945|G-Shock Men's G-S...|         Watches|          5|           27|         28|   N|                Y|Big, but proporti...|This is a great c...| 2015-08-27|\n",
            "|         US|   41750372|R2TAFZNG4KHFQB|B00YTY8MQW|     967993443|Timex Men's Weeke...|         Watches|          4|           24|         24|   N|                Y|Quiet Timex Weeke...|I recently picked...| 2015-08-27|\n",
            "|         US|    2132145| RNRFACS48ZE4A|B000B55AEK|     525035983|Timex Women's Ind...|         Watches|          5|           21|         21|   N|                Y|I'm a busy colleg...|I'm a busy colleg...| 2015-08-27|\n",
            "|         US|    4160429|R2PO5QTLXJ9LHG|B00TU78EXE|     508562164|AUDEMARS PIGUET R...|         Watches|          5|           33|         46|   N|                N|Great watch and i...|Great watch. I bo...| 2015-08-27|\n",
            "|         US|   49019268|R38KDT041DRMIN|B00NIF9H3U|     998896201|Omega Men's 31130...|         Watches|          5|           19|         24|   N|                Y|Looks good on the...|Gorgeous watch wi...| 2015-08-26|\n",
            "|         US|   10220971|R2MNPDWCA42I4G|B00K92JHX0|     826514849|Fanmis Ceramic Be...|         Watches|          1|           17|         20|   N|                N|Parnis is a scam....|I bought this wat...| 2015-08-26|\n",
            "+-----------+-----------+--------------+----------+--------------+--------------------+----------------+-----------+-------------+-----------+----+-----------------+--------------------+--------------------+-----------+\n",
            "only showing top 20 rows\n",
            "\n"
          ],
          "name": "stdout"
        }
      ]
    },
    {
      "cell_type": "code",
      "metadata": {
        "colab": {
          "base_uri": "https://localhost:8080/"
        },
        "id": "AwOh__Q-u4K-",
        "outputId": "fad750b2-085d-4305-8282-5625feab17c7"
      },
      "source": [
        "from pyspark.sql.functions import *\n",
        "# Create dataframe where helpful votes/total votes is greater than 50%\n",
        "ratio_df = df.withColumn('helpful_votes_percentage', (df.helpful_votes/df.total_votes))\n",
        "ratio_df = ratio_df.filter(\"helpful_votes_percentage>=0.5\")\n",
        "ratio_df.show()"
      ],
      "execution_count": 21,
      "outputs": [
        {
          "output_type": "stream",
          "text": [
            "+-----------+-----------+--------------+----------+--------------+--------------------+----------------+-----------+-------------+-----------+----+-----------------+--------------------+--------------------+-----------+------------------------+\n",
            "|marketplace|customer_id|     review_id|product_id|product_parent|       product_title|product_category|star_rating|helpful_votes|total_votes|vine|verified_purchase|     review_headline|         review_body|review_date|helpful_votes_percentage|\n",
            "+-----------+-----------+--------------+----------+--------------+--------------------+----------------+-----------+-------------+-----------+----+-----------------+--------------------+--------------------+-----------+------------------------+\n",
            "|         US|   17728960|R14W2VCHHK5V7W|B00ZI3R5VG|     213303319|Stuhrling Origina...|         Watches|          5|           19|         20|   N|                Y|this is a good al...|As a former Rolex...| 2015-08-31|                    0.95|\n",
            "|         US|   20240757|R1S3T57O3OYT5S|B003DZ7VOW|     336197576|G-Shock GA100A-7A...|         Watches|          5|           19|         20|   N|                Y|          Five Stars|         Great watch| 2015-08-31|                    0.95|\n",
            "|         US|   15806601|R1BTWIBLYYVOV7|B00I1LM5SK|     878438426|Seiko Men's SSC22...|         Watches|          5|           30|         30|   N|                Y|Extremely Satisfied!|A beautiful timep...| 2015-08-31|                     1.0|\n",
            "|         US|   32751852|R3PXNV89DFIXKV|B00OAY5ZPC|     814269665|G-Shock Men's Mil...|         Watches|          5|           35|         37|   N|                Y|Sweet watch perfe...|Sweet watch perfe...| 2015-08-30|      0.9459459459459459|\n",
            "|         US|   36877359|R2ZF9NYVT3J7D6|B000JQJS6M|     926299553|Invicta Men's 892...|         Watches|          5|           19|         22|   N|                Y|Wow what a great ...|I bought this wat...| 2015-08-30|      0.8636363636363636|\n",
            "|         US|   52450678|R20NYA5V0UF9NE|B00EX1GLXM|     186312431|Daniel Wellington...|         Watches|          5|           27|         28|   N|                Y|  Best Women's Watch|I love this watch...| 2015-08-30|      0.9642857142857143|\n",
            "|         US|   20624774|R2X8FZRUOS8R8C|B00WUY9RGM|     609917507|Bulova Accutron I...|         Watches|          4|           25|         26|   N|                Y|A very nice reiss...|A very nice reiss...| 2015-08-29|      0.9615384615384616|\n",
            "|         US|     225889|R2D8IMBVX3XCLF|B00U0XC1T0|      31905742|Akribos XXIV Men'...|         Watches|          1|           14|         20|   N|                Y|I bought in 30 ju...|I bought in 30 ju...| 2015-08-29|                     0.7|\n",
            "|         US|   36602051|R25UD9TA63L3Q8|B00YTYH16Y|     251372732|Timex Expedition ...|         Watches|          5|           25|         27|   N|                Y|Great watch for s...|I work in an a me...| 2015-08-28|      0.9259259259259259|\n",
            "|         US|   47047549|R2RB1HML8N712P|B00J5QR062|     220979928|Casio Men's GA-11...|         Watches|          5|           26|         28|   N|                Y| My First G-SHOCK...|I'll be honest I ...| 2015-08-28|      0.9285714285714286|\n",
            "|         US|    2546433| ROXA8XP5EI2KK|B009XGOP8A|     973820677|Michael Kors Wome...|         Watches|          5|           48|         49|   N|                N|I love it. I woul...|This thing is gor...| 2015-08-28|      0.9795918367346939|\n",
            "|         US|   24173990|R149IHTGGSRGX9|B00BKQTA4A|     128852263|Daniel Wellington...|         Watches|          5|           19|         20|   N|                Y|          Five Stars|Great watch! My n...| 2015-08-28|                    0.95|\n",
            "|         US|   53096363|R1B7M0OP3UNP6O|B00V0G9OGE|     297682929|Armitron Sport Wo...|         Watches|          5|           49|         52|   Y|                N|Lots of features ...|My wife has been ...| 2015-08-27|      0.9423076923076923|\n",
            "|         US|   27863178|R2N92CUM7WBA1A|B013XHV4GU|     119578945|G-Shock Men's G-S...|         Watches|          5|           27|         28|   N|                Y|Big, but proporti...|This is a great c...| 2015-08-27|      0.9642857142857143|\n",
            "|         US|   41750372|R2TAFZNG4KHFQB|B00YTY8MQW|     967993443|Timex Men's Weeke...|         Watches|          4|           24|         24|   N|                Y|Quiet Timex Weeke...|I recently picked...| 2015-08-27|                     1.0|\n",
            "|         US|    2132145| RNRFACS48ZE4A|B000B55AEK|     525035983|Timex Women's Ind...|         Watches|          5|           21|         21|   N|                Y|I'm a busy colleg...|I'm a busy colleg...| 2015-08-27|                     1.0|\n",
            "|         US|    4160429|R2PO5QTLXJ9LHG|B00TU78EXE|     508562164|AUDEMARS PIGUET R...|         Watches|          5|           33|         46|   N|                N|Great watch and i...|Great watch. I bo...| 2015-08-27|       0.717391304347826|\n",
            "|         US|   49019268|R38KDT041DRMIN|B00NIF9H3U|     998896201|Omega Men's 31130...|         Watches|          5|           19|         24|   N|                Y|Looks good on the...|Gorgeous watch wi...| 2015-08-26|      0.7916666666666666|\n",
            "|         US|   10220971|R2MNPDWCA42I4G|B00K92JHX0|     826514849|Fanmis Ceramic Be...|         Watches|          1|           17|         20|   N|                N|Parnis is a scam....|I bought this wat...| 2015-08-26|                    0.85|\n",
            "|         US|   15374156|R3F3KMKY26K620|B006ZMHUP0|     899975826|Seiko QXA520KLH W...|         Watches|          4|           25|         26|   N|                Y|          Nice clock|This is a very pr...| 2015-08-26|      0.9615384615384616|\n",
            "+-----------+-----------+--------------+----------+--------------+--------------------+----------------+-----------+-------------+-----------+----+-----------------+--------------------+--------------------+-----------+------------------------+\n",
            "only showing top 20 rows\n",
            "\n"
          ],
          "name": "stdout"
        }
      ]
    },
    {
      "cell_type": "code",
      "metadata": {
        "colab": {
          "base_uri": "https://localhost:8080/"
        },
        "id": "271Bd1r-15Ux",
        "outputId": "eba98342-2f88-4828-891e-0fa2eb36bc72"
      },
      "source": [
        "paid_df = ratio_df.filter(col(\"vine\")=='Y')\n",
        "paid_df.show()"
      ],
      "execution_count": 22,
      "outputs": [
        {
          "output_type": "stream",
          "text": [
            "+-----------+-----------+--------------+----------+--------------+--------------------+----------------+-----------+-------------+-----------+----+-----------------+--------------------+--------------------+-----------+------------------------+\n",
            "|marketplace|customer_id|     review_id|product_id|product_parent|       product_title|product_category|star_rating|helpful_votes|total_votes|vine|verified_purchase|     review_headline|         review_body|review_date|helpful_votes_percentage|\n",
            "+-----------+-----------+--------------+----------+--------------+--------------------+----------------+-----------+-------------+-----------+----+-----------------+--------------------+--------------------+-----------+------------------------+\n",
            "|         US|   53096363|R1B7M0OP3UNP6O|B00V0G9OGE|     297682929|Armitron Sport Wo...|         Watches|          5|           49|         52|   Y|                N|Lots of features ...|My wife has been ...| 2015-08-27|      0.9423076923076923|\n",
            "|         US|   51394788|R2UUV4UGGYMQG8|B00M1Y5AIU|     368146384|Boulevard ClickTi...|         Watches|          5|           34|         39|   Y|                N|Another superb up...|I'm shocked that ...| 2014-11-10|      0.8717948717948718|\n",
            "|         US|   43796190| R9K0LZV2BK9YY|B008AXURAW|     328723789|Fossil FS4735 Gra...|         Watches|          4|           37|         39|   Y|                N|A very handsome w...|There are plenty ...| 2014-07-29|      0.9487179487179487|\n",
            "|         US|   52460215|R2OVFLNEUEGTJM|B00IOOB1RU|     394792547|Casio Men's STB-1...|         Watches|          3|           18|         25|   Y|                N|   Nice But Overkill|Casio makes good ...| 2014-05-22|                    0.72|\n",
            "|         US|   20981134| RBE09ELJ77LQ0|B00ATUKPRE|     250661797|Invicta Men's 143...|         Watches|          5|           44|         45|   Y|                N|A large yet class...|[[VIDEOID:mo31IMO...| 2013-06-18|      0.9777777777777777|\n",
            "|         US|   52584172|R3867T8AIJJHM6|B00ATUKPRE|     250661797|Invicta Men's 143...|         Watches|          5|           26|         27|   Y|                N|Large faced flash...|On the internet w...| 2013-06-17|      0.9629629629629629|\n",
            "|         US|   49214860|R1FNVUXPU63WOZ|B00B2GZI1M|     539196805|Stuhrling Origina...|         Watches|          4|           43|         48|   Y|                N|Beautiful and Fun...|Shopping for watc...| 2013-06-05|      0.8958333333333334|\n",
            "|         US|   39036425|R25XGG2G12SE1Z|B00B2GZJXE|     777697728|Stuhrling Origina...|         Watches|          4|           20|         23|   Y|                N|Packaging is grea...|There are plus it...| 2013-05-23|      0.8695652173913043|\n",
            "|         US|   42247018| R3JKU4HRDFZDH|B00ATUKQG4|     479826550|Invicta Men's 143...|         Watches|          4|           27|         30|   Y|                N|An absolutely bea...|The Invicta 14331...| 2013-05-23|                     0.9|\n",
            "|         US|   52775525|R2PQYOCJXRB1BF|B00B2GZJXE|     777697728|Stuhrling Origina...|         Watches|          5|           26|         28|   Y|                N|Beautifully Class...|I love this watch...| 2013-05-23|      0.9285714285714286|\n",
            "|         US|   51731441|R1JBQ8UBLA8N4X|B00791R1MI|     961043582|Casio Men's Solar...|         Watches|          4|          349|        370|   Y|                N|Great Idea But Ha...|The Casio Men's A...| 2013-05-09|      0.9432432432432433|\n",
            "|         US|   50820654|R2I01ZYMO0GYP1|B00791R1MI|     961043582|Casio Men's Solar...|         Watches|          4|          107|        121|   Y|                N|Good Quality Watc...|This Casio Solar ...| 2013-05-03|      0.8842975206611571|\n",
            "|         US|   39036425|R297GF8EF7AXPO|B00AELHD0U|     430738829|Casio Men's Ana-D...|         Watches|          2|           22|         30|   Y|                N|A watch you can u...|Taking this watch...| 2013-04-27|      0.7333333333333333|\n",
            "|         US|   52486291|R2OFG89WKPLHGU|B00AELHD0U|     430738829|Casio Men's Ana-D...|         Watches|          5|           54|         60|   Y|                N|The Perfect Post-...|After the apocaly...| 2013-04-25|                     0.9|\n",
            "|         US|   52755608|R13PI8O4697CEV|B00791R1MI|     961043582|Casio Men's Solar...|         Watches|          4|          135|        144|   Y|                N|Fun sporty solar ...|Casio Men's AQ-S8...| 2013-04-24|                  0.9375|\n",
            "|         US|   51118641|R223MX62JYWUOY|B00ATULBA4|     487220800|Invicta Women's 1...|         Watches|          4|           20|         21|   Y|                N|It's not your Gra...|If you are consid...| 2013-04-11|      0.9523809523809523|\n",
            "|         US|   34571698| RTSXZ0HZF623M|B00ATUL9TW|     364380215|Invicta Women's 1...|         Watches|          3|           13|         22|   Y|                N|Strong enough for...|I know Invicta pr...| 2013-04-06|      0.5909090909090909|\n",
            "|         US|   42043140|R1OB4GCKEYGV9I|B0096IQZ8S|     398873095|Stuhrling Origina...|         Watches|          4|           61|         90|   Y|                N|Everything About ...|Immediately upon ...| 2013-01-20|      0.6777777777777778|\n",
            "|         US|   50658053|R1YBNRRUD5WCG4|B0089K8CE4|     613213413|Stuhrling Origina...|         Watches|          5|           15|         20|   Y|                N|          Impressive|I do love watches...| 2012-11-03|                    0.75|\n",
            "|         US|   48002256|R3L4Z6NK2Z4OV5|B0089K8CHG|     613213413|Stuhrling Origina...|         Watches|          2|           24|         33|   Y|                N|    Hard to see time|Stuhrling is a ma...| 2012-10-27|      0.7272727272727273|\n",
            "+-----------+-----------+--------------+----------+--------------+--------------------+----------------+-----------+-------------+-----------+----+-----------------+--------------------+--------------------+-----------+------------------------+\n",
            "only showing top 20 rows\n",
            "\n"
          ],
          "name": "stdout"
        }
      ]
    },
    {
      "cell_type": "code",
      "metadata": {
        "colab": {
          "base_uri": "https://localhost:8080/"
        },
        "id": "_jdap3sN2r2P",
        "outputId": "a92916f6-e14c-42d5-cef9-e76561d1af4a"
      },
      "source": [
        "unpaid_df = ratio_df.filter(col(\"vine\")=='N')\n",
        "unpaid_df.show()"
      ],
      "execution_count": 23,
      "outputs": [
        {
          "output_type": "stream",
          "text": [
            "+-----------+-----------+--------------+----------+--------------+--------------------+----------------+-----------+-------------+-----------+----+-----------------+--------------------+--------------------+-----------+------------------------+\n",
            "|marketplace|customer_id|     review_id|product_id|product_parent|       product_title|product_category|star_rating|helpful_votes|total_votes|vine|verified_purchase|     review_headline|         review_body|review_date|helpful_votes_percentage|\n",
            "+-----------+-----------+--------------+----------+--------------+--------------------+----------------+-----------+-------------+-----------+----+-----------------+--------------------+--------------------+-----------+------------------------+\n",
            "|         US|   17728960|R14W2VCHHK5V7W|B00ZI3R5VG|     213303319|Stuhrling Origina...|         Watches|          5|           19|         20|   N|                Y|this is a good al...|As a former Rolex...| 2015-08-31|                    0.95|\n",
            "|         US|   20240757|R1S3T57O3OYT5S|B003DZ7VOW|     336197576|G-Shock GA100A-7A...|         Watches|          5|           19|         20|   N|                Y|          Five Stars|         Great watch| 2015-08-31|                    0.95|\n",
            "|         US|   15806601|R1BTWIBLYYVOV7|B00I1LM5SK|     878438426|Seiko Men's SSC22...|         Watches|          5|           30|         30|   N|                Y|Extremely Satisfied!|A beautiful timep...| 2015-08-31|                     1.0|\n",
            "|         US|   32751852|R3PXNV89DFIXKV|B00OAY5ZPC|     814269665|G-Shock Men's Mil...|         Watches|          5|           35|         37|   N|                Y|Sweet watch perfe...|Sweet watch perfe...| 2015-08-30|      0.9459459459459459|\n",
            "|         US|   36877359|R2ZF9NYVT3J7D6|B000JQJS6M|     926299553|Invicta Men's 892...|         Watches|          5|           19|         22|   N|                Y|Wow what a great ...|I bought this wat...| 2015-08-30|      0.8636363636363636|\n",
            "|         US|   52450678|R20NYA5V0UF9NE|B00EX1GLXM|     186312431|Daniel Wellington...|         Watches|          5|           27|         28|   N|                Y|  Best Women's Watch|I love this watch...| 2015-08-30|      0.9642857142857143|\n",
            "|         US|   20624774|R2X8FZRUOS8R8C|B00WUY9RGM|     609917507|Bulova Accutron I...|         Watches|          4|           25|         26|   N|                Y|A very nice reiss...|A very nice reiss...| 2015-08-29|      0.9615384615384616|\n",
            "|         US|     225889|R2D8IMBVX3XCLF|B00U0XC1T0|      31905742|Akribos XXIV Men'...|         Watches|          1|           14|         20|   N|                Y|I bought in 30 ju...|I bought in 30 ju...| 2015-08-29|                     0.7|\n",
            "|         US|   36602051|R25UD9TA63L3Q8|B00YTYH16Y|     251372732|Timex Expedition ...|         Watches|          5|           25|         27|   N|                Y|Great watch for s...|I work in an a me...| 2015-08-28|      0.9259259259259259|\n",
            "|         US|   47047549|R2RB1HML8N712P|B00J5QR062|     220979928|Casio Men's GA-11...|         Watches|          5|           26|         28|   N|                Y| My First G-SHOCK...|I'll be honest I ...| 2015-08-28|      0.9285714285714286|\n",
            "|         US|    2546433| ROXA8XP5EI2KK|B009XGOP8A|     973820677|Michael Kors Wome...|         Watches|          5|           48|         49|   N|                N|I love it. I woul...|This thing is gor...| 2015-08-28|      0.9795918367346939|\n",
            "|         US|   24173990|R149IHTGGSRGX9|B00BKQTA4A|     128852263|Daniel Wellington...|         Watches|          5|           19|         20|   N|                Y|          Five Stars|Great watch! My n...| 2015-08-28|                    0.95|\n",
            "|         US|   27863178|R2N92CUM7WBA1A|B013XHV4GU|     119578945|G-Shock Men's G-S...|         Watches|          5|           27|         28|   N|                Y|Big, but proporti...|This is a great c...| 2015-08-27|      0.9642857142857143|\n",
            "|         US|   41750372|R2TAFZNG4KHFQB|B00YTY8MQW|     967993443|Timex Men's Weeke...|         Watches|          4|           24|         24|   N|                Y|Quiet Timex Weeke...|I recently picked...| 2015-08-27|                     1.0|\n",
            "|         US|    2132145| RNRFACS48ZE4A|B000B55AEK|     525035983|Timex Women's Ind...|         Watches|          5|           21|         21|   N|                Y|I'm a busy colleg...|I'm a busy colleg...| 2015-08-27|                     1.0|\n",
            "|         US|    4160429|R2PO5QTLXJ9LHG|B00TU78EXE|     508562164|AUDEMARS PIGUET R...|         Watches|          5|           33|         46|   N|                N|Great watch and i...|Great watch. I bo...| 2015-08-27|       0.717391304347826|\n",
            "|         US|   49019268|R38KDT041DRMIN|B00NIF9H3U|     998896201|Omega Men's 31130...|         Watches|          5|           19|         24|   N|                Y|Looks good on the...|Gorgeous watch wi...| 2015-08-26|      0.7916666666666666|\n",
            "|         US|   10220971|R2MNPDWCA42I4G|B00K92JHX0|     826514849|Fanmis Ceramic Be...|         Watches|          1|           17|         20|   N|                N|Parnis is a scam....|I bought this wat...| 2015-08-26|                    0.85|\n",
            "|         US|   15374156|R3F3KMKY26K620|B006ZMHUP0|     899975826|Seiko QXA520KLH W...|         Watches|          4|           25|         26|   N|                Y|          Nice clock|This is a very pr...| 2015-08-26|      0.9615384615384616|\n",
            "|         US|    4121241|R2PU32HT6X9DOM|B012UTRAFG|     573799489|OhFlash 20mm [Dar...|         Watches|          5|           23|         24|   N|                Y|         Great strap|This leather stra...| 2015-08-24|      0.9583333333333334|\n",
            "+-----------+-----------+--------------+----------+--------------+--------------------+----------------+-----------+-------------+-----------+----+-----------------+--------------------+--------------------+-----------+------------------------+\n",
            "only showing top 20 rows\n",
            "\n"
          ],
          "name": "stdout"
        }
      ]
    },
    {
      "cell_type": "code",
      "metadata": {
        "colab": {
          "base_uri": "https://localhost:8080/"
        },
        "id": "o3mXWnIA3gL4",
        "outputId": "dc349460-2fc1-425d-c5cc-1e69c9aff41e"
      },
      "source": [
        "paid_df.agg({\"review_id\": \"count\"}).show()\n",
        "unpaid_df.agg({\"review_id\": \"count\"}).show()"
      ],
      "execution_count": 24,
      "outputs": [
        {
          "output_type": "stream",
          "text": [
            "+----------------+\n",
            "|count(review_id)|\n",
            "+----------------+\n",
            "|              47|\n",
            "+----------------+\n",
            "\n",
            "+----------------+\n",
            "|count(review_id)|\n",
            "+----------------+\n",
            "|            8362|\n",
            "+----------------+\n",
            "\n"
          ],
          "name": "stdout"
        }
      ]
    },
    {
      "cell_type": "code",
      "metadata": {
        "colab": {
          "base_uri": "https://localhost:8080/"
        },
        "id": "JplvX3h-4IhZ",
        "outputId": "4b91b0b3-40f6-456c-98ef-ee13e7520e56"
      },
      "source": [
        "five_star_paid = paid_df.filter(col(\"star_rating\")=='5')\n",
        "five_star_unpaid = paid_df.filter(col(\"star_rating\")=='5')\n",
        "five_star_paid.agg({\"review_id\": \"count\"}).show()\n",
        "five_star_unpaid.agg({\"review_id\": \"count\"}).show()"
      ],
      "execution_count": 27,
      "outputs": [
        {
          "output_type": "stream",
          "text": [
            "+----------------+\n",
            "|count(review_id)|\n",
            "+----------------+\n",
            "|              15|\n",
            "+----------------+\n",
            "\n",
            "+----------------+\n",
            "|count(review_id)|\n",
            "+----------------+\n",
            "|              15|\n",
            "+----------------+\n",
            "\n"
          ],
          "name": "stdout"
        }
      ]
    },
    {
      "cell_type": "code",
      "metadata": {
        "id": "i395Tcl85dxn"
      },
      "source": [
        ""
      ],
      "execution_count": null,
      "outputs": []
    }
  ]
}